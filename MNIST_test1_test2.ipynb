{
  "nbformat": 4,
  "nbformat_minor": 0,
  "metadata": {
    "colab": {
      "name": "MNIST_test1_test2.ipynb",
      "version": "0.3.2",
      "provenance": [],
      "private_outputs": true,
      "collapsed_sections": [],
      "toc_visible": true,
      "include_colab_link": true
    },
    "kernelspec": {
      "display_name": "Python 3",
      "name": "python3"
    }
  },
  "cells": [
    {
      "cell_type": "markdown",
      "metadata": {
        "id": "view-in-github",
        "colab_type": "text"
      },
      "source": [
        "<a href=\"https://colab.research.google.com/github/Daniel2601/ML7/blob/master/MNIST_test1_test2.ipynb\" target=\"_parent\"><img src=\"https://colab.research.google.com/assets/colab-badge.svg\" alt=\"Open In Colab\"/></a>"
      ]
    },
    {
      "metadata": {
        "colab_type": "text",
        "id": "3wF5wszaj97Y"
      },
      "cell_type": "markdown",
      "source": [
        "Hello World avec TensorFlow et MNIST"
      ]
    },
    {
      "metadata": {
        "colab_type": "text",
        "id": "hiH7AC-NTniF"
      },
      "cell_type": "markdown",
      "source": [
        "Importation de la library Tensorflow"
      ]
    },
    {
      "metadata": {
        "colab_type": "code",
        "id": "0trJmd6DjqBZ",
        "colab": {}
      },
      "cell_type": "code",
      "source": [
        "from __future__ import absolute_import, division, print_function, unicode_literals\n",
        "import tensorflow as tf"
      ],
      "execution_count": 0,
      "outputs": []
    },
    {
      "metadata": {
        "colab_type": "text",
        "id": "7NAbSZiaoJ4z"
      },
      "cell_type": "markdown",
      "source": [
        "Téléchargement des images MNIST  [MNIST](http://yann.lecun.com/exdb/mnist/) dataset.\n",
        "Conversion des valeurs des pixels en nombre à virgule compris en 0 et 1Convert the samples from integers to floating-point numbers:"
      ]
    },
    {
      "metadata": {
        "colab_type": "code",
        "id": "7FP5258xjs-v",
        "colab": {}
      },
      "cell_type": "code",
      "source": [
        "mnist = tf.keras.datasets.mnist\n",
        "\n",
        "(x_train, y_train), (x_test, y_test) = mnist.load_data()\n",
        "x_train, x_test = x_train / 255.0, x_test / 255.0"
      ],
      "execution_count": 0,
      "outputs": []
    },
    {
      "metadata": {
        "id": "uouMwc_NW8d3",
        "colab_type": "text"
      },
      "cell_type": "markdown",
      "source": [
        "Visualisation d'un exemple"
      ]
    },
    {
      "metadata": {
        "id": "nZ3FH2BSW7Z2",
        "colab_type": "code",
        "colab": {}
      },
      "cell_type": "code",
      "source": [
        "import matplotlib.pyplot as plt\n",
        "image_index = 7777 # You may select anything up to 60,000\n",
        "print(y_train[image_index]) # The label is 8\n",
        "plt.imshow(x_train[image_index], cmap='Greys')"
      ],
      "execution_count": 0,
      "outputs": []
    },
    {
      "metadata": {
        "colab_type": "text",
        "id": "BPZ68wASog_I"
      },
      "cell_type": "markdown",
      "source": [
        "Construction d'un modèle `tf.keras` de réseaux de neurones type perceptron multicouche 2 couches cachées de 16 neurones."
      ]
    },
    {
      "metadata": {
        "colab_type": "code",
        "id": "h3IKyzTCDNGo",
        "colab": {}
      },
      "cell_type": "code",
      "source": [
        "\n",
        "model = tf.keras.models.Sequential([\n",
        "  tf.keras.layers.Flatten(input_shape=(28, 28)),\n",
        "  tf.keras.layers.Dense(16, activation=tf.nn.relu),\n",
        "  tf.keras.layers.Dense(16, activation=tf.nn.relu),\n",
        "  tf.keras.layers.Dense(10, activation=tf.nn.softmax)\n",
        "])\n",
        "\n"
      ],
      "execution_count": 0,
      "outputs": []
    },
    {
      "metadata": {
        "id": "YOHh_uiZJrUQ",
        "colab_type": "text"
      },
      "cell_type": "markdown",
      "source": [
        "Choix de l'optimiseur et de la fonction \"loss\" en vue de l'entrainement"
      ]
    },
    {
      "metadata": {
        "id": "Qm1Q_GHbJqzV",
        "colab_type": "code",
        "colab": {}
      },
      "cell_type": "code",
      "source": [
        "model.compile(optimizer='adam',\n",
        "              loss='sparse_categorical_crossentropy',\n",
        "              metrics=['accuracy'])"
      ],
      "execution_count": 0,
      "outputs": []
    },
    {
      "metadata": {
        "colab_type": "text",
        "id": "ix4mEL65on-w"
      },
      "cell_type": "markdown",
      "source": [
        "Entrainement du modèle"
      ]
    },
    {
      "metadata": {
        "colab_type": "code",
        "id": "F7dTAzgHDUh7",
        "colab": {}
      },
      "cell_type": "code",
      "source": [
        "model.fit(x_train, y_train, epochs=5)\n"
      ],
      "execution_count": 0,
      "outputs": []
    },
    {
      "metadata": {
        "id": "8M9m9RLdJ7S1",
        "colab_type": "text"
      },
      "cell_type": "markdown",
      "source": [
        "Evaluation du modèle"
      ]
    },
    {
      "metadata": {
        "id": "WPTzVEtvJ-is",
        "colab_type": "code",
        "colab": {}
      },
      "cell_type": "code",
      "source": [
        "\n",
        "model.evaluate(x_test, y_test)"
      ],
      "execution_count": 0,
      "outputs": []
    },
    {
      "metadata": {
        "colab_type": "text",
        "id": "T4JfEh7kvx6m"
      },
      "cell_type": "markdown",
      "source": [
        "Nouveau modèle plus \"perfectionné\" (plus de neurones) donnant un meilleur résultat."
      ]
    },
    {
      "metadata": {
        "id": "GRvddFELG_Bk",
        "colab_type": "code",
        "colab": {}
      },
      "cell_type": "code",
      "source": [
        "model = tf.keras.models.Sequential([\n",
        "  tf.keras.layers.Flatten(input_shape=(28, 28)),\n",
        "  tf.keras.layers.Dense(512, activation=tf.nn.relu),\n",
        "  tf.keras.layers.Dropout(0.2),\n",
        "  tf.keras.layers.Dense(10, activation=tf.nn.softmax)\n",
        "])\n",
        "\n",
        "model.compile(optimizer='adam',\n",
        "              loss='sparse_categorical_crossentropy',\n",
        "              metrics=['accuracy'])\n",
        "\n",
        "model.fit(x_train, y_train, epochs=5)\n",
        "\n",
        "model.evaluate(x_test, y_test)"
      ],
      "execution_count": 0,
      "outputs": []
    }
  ]
}